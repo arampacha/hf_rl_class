{
  "cells": [
    {
      "cell_type": "markdown",
      "metadata": {
        "id": "view-in-github",
        "colab_type": "text"
      },
      "source": [
        "<a href=\"https://colab.research.google.com/github/arampacha/hf_rl_class/blob/main/1a_LunarLander_v2_PPO.ipynb\" target=\"_parent\"><img src=\"https://colab.research.google.com/assets/colab-badge.svg\" alt=\"Open In Colab\"/></a>"
      ]
    },
    {
      "cell_type": "code",
      "source": [
        "%%capture\n",
        "import sys\n",
        "if 'google.colab' in sys.modules:\n",
        "    !apt install python-opengl ffmpeg xvfb\n",
        "    !pip install pyvirtualdisplay\n",
        "    !pip install gym[box2d] stable-baselines3[extra] huggingface_sb3 pyglet\n",
        "    !pip install ale-py==0.7.4 # To overcome an issue with gym (https://github.com/DLR-RM/stable-baselines3/issues/875)\n",
        "    !pip install wandb"
      ],
      "metadata": {
        "id": "dlx9uWHuhqfh"
      },
      "execution_count": null,
      "outputs": []
    },
    {
      "cell_type": "code",
      "source": [
        "# Virtual display\n",
        "from pyvirtualdisplay import Display\n",
        "\n",
        "virtual_display = Display(visible=0, size=(1400, 900))\n",
        "virtual_display.start()"
      ],
      "metadata": {
        "colab": {
          "base_uri": "https://localhost:8080/"
        },
        "id": "PZsV1JniZaTd",
        "outputId": "fb0972e2-94c8-47a6-e79d-f11ff5665d19"
      },
      "execution_count": null,
      "outputs": [
        {
          "output_type": "execute_result",
          "data": {
            "text/plain": [
              "<pyvirtualdisplay.display.Display at 0x7f73b232e610>"
            ]
          },
          "metadata": {},
          "execution_count": 1
        }
      ]
    },
    {
      "cell_type": "code",
      "execution_count": null,
      "metadata": {
        "id": "cygWLPGsEQ0m"
      },
      "outputs": [],
      "source": [
        "import gym\n",
        "\n",
        "from huggingface_sb3 import load_from_hub, package_to_hub, push_to_hub\n",
        "from huggingface_hub import notebook_login\n",
        "\n",
        "from stable_baselines3 import PPO\n",
        "from stable_baselines3.common.evaluation import evaluate_policy\n",
        "from stable_baselines3.common.env_util import make_vec_env\n",
        "from stable_baselines3.common.vec_env import DummyVecEnv\n",
        "from stable_baselines3.common.monitor import Monitor\n",
        "\n",
        "import wandb\n",
        "from wandb.integration.sb3 import WandbCallback"
      ]
    },
    {
      "cell_type": "code",
      "source": [
        "wandb.login()"
      ],
      "metadata": {
        "colab": {
          "base_uri": "https://localhost:8080/"
        },
        "id": "Ce_sn-Yvumdr",
        "outputId": "43550666-b133-4e3f-d7c2-b5977c999ed5"
      },
      "execution_count": null,
      "outputs": [
        {
          "output_type": "stream",
          "name": "stderr",
          "text": [
            "\u001b[34m\u001b[1mwandb\u001b[0m: Currently logged in as: \u001b[33marampacha\u001b[0m. Use \u001b[1m`wandb login --relogin`\u001b[0m to force relogin\n"
          ]
        },
        {
          "output_type": "execute_result",
          "data": {
            "text/plain": [
              "True"
            ]
          },
          "metadata": {},
          "execution_count": 3
        }
      ]
    },
    {
      "cell_type": "code",
      "source": [
        "notebook_login()\n",
        "!git config --global credential.helper store"
      ],
      "metadata": {
        "id": "H_SPqyInnKOu"
      },
      "execution_count": null,
      "outputs": []
    },
    {
      "cell_type": "code",
      "execution_count": null,
      "metadata": {
        "id": "99hqQ_etEy1N"
      },
      "outputs": [],
      "source": [
        "# Create the environment\n",
        "ENV_NAME = 'LunarLander-v2'\n",
        "env = make_vec_env(ENV_NAME, n_envs=16)\n",
        "env = VecVideoRecorder(env, f\"videos/{run.id}\", record_video_trigger=lambda x: x>1e6)"
      ]
    },
    {
      "cell_type": "code",
      "source": [
        "config = {\n",
        "    \"policy_type\": \"MlpPolicy\",\n",
        "    \"total_timesteps\": int(2e6),\n",
        "    \"seed\": 124,\n",
        "    \"lr\":2e-3,\n",
        "    \"decay\":True,\n",
        "    \"batch_size\":128\n",
        "}"
      ],
      "metadata": {
        "id": "0bqNvbIKuR8k"
      },
      "execution_count": null,
      "outputs": []
    },
    {
      "cell_type": "code",
      "source": [
        "def linear_decay_sched(pct):\n",
        "    return pct*config[\"lr\"]"
      ],
      "metadata": {
        "id": "ka8zn4chvOTt"
      },
      "execution_count": null,
      "outputs": []
    },
    {
      "cell_type": "code",
      "source": [
        "_d = \"linear\" if config['decay'] else 'no'\n",
        "experiment_name = f\"{ENV_NAME}-ppo-{config['lr']:.0e}-{_d}-decay-{config['total_timesteps']:.0e}steps\"\n",
        "with wandb.init(\n",
        "        project=\"hf-deep-rl-class\",\n",
        "        name=f\"{experiment_name}-1\",\n",
        "        group=experiment_name,\n",
        "        config=config,\n",
        "        sync_tensorboard=True,\n",
        "        monitor_gym=True,\n",
        "        save_code=False,\n",
        "    ) as run:\n",
        "\n",
        "\n",
        "    model = PPO(\n",
        "        config[\"policy_type\"], \n",
        "        env,\n",
        "        learning_rate=linear_decay_sched if config[\"decay\"] else config['lr'], \n",
        "        verbose=1, \n",
        "        tensorboard_log=f\"runs/{run.id}\",\n",
        "        batch_size=config[\"batch_size\"],\n",
        "\n",
        "    )\n",
        "    model_name = f\"{ENV_NAME}-ppo\"\n",
        "    model.learn(\n",
        "        total_timesteps=config[\"total_timesteps\"],\n",
        "        callback=WandbCallback(\n",
        "            gradient_save_freq=100,\n",
        "            model_save_path=model_name,\n",
        "            verbose=2,\n",
        "        ),\n",
        "    )\n",
        "    eval_env = DummyVecEnv([lambda: Monitor(gym.make(ENV_NAME))])\n",
        "    package_to_hub(\n",
        "        model=model,\n",
        "        model_name=model_name,\n",
        "        model_architecture=\"PPO\",\n",
        "        env_id=ENV_NAME,\n",
        "        eval_env=eval_env,\n",
        "        repo_id=f\"arampacha/{model_name}\",\n",
        "        commit_message=f\"trained model {config['total_timesteps']:.0e} steps\"\n",
        "    )"
      ],
      "metadata": {
        "id": "VLtxIcv3veVk"
      },
      "execution_count": null,
      "outputs": []
    },
    {
      "cell_type": "code",
      "source": [
        ""
      ],
      "metadata": {
        "id": "2noYjNZdnGz8"
      },
      "execution_count": null,
      "outputs": []
    }
  ],
  "metadata": {
    "accelerator": "GPU",
    "colab": {
      "collapsed_sections": [],
      "name": "1a_LunarLander_v2_PPO.ipynb",
      "provenance": [],
      "include_colab_link": true
    },
    "kernelspec": {
      "display_name": "Python 3",
      "name": "python3"
    },
    "language_info": {
      "name": "python"
    }
  },
  "nbformat": 4,
  "nbformat_minor": 0
}