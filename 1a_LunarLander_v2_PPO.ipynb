{
  "cells": [
    {
      "cell_type": "markdown",
      "metadata": {
        "colab_type": "text",
        "id": "view-in-github"
      },
      "source": [
        "<a href=\"https://colab.research.google.com/github/arampacha/hf_rl_class/blob/main/1a_LunarLander_v2_PPO.ipynb\" target=\"_parent\"><img src=\"https://colab.research.google.com/assets/colab-badge.svg\" alt=\"Open In Colab\"/></a>"
      ]
    },
    {
      "cell_type": "code",
      "execution_count": null,
      "metadata": {
        "id": "dlx9uWHuhqfh"
      },
      "outputs": [],
      "source": [
        "%%capture\n",
        "import sys\n",
        "if 'google.colab' in sys.modules:\n",
        "    !apt install python-opengl ffmpeg xvfb\n",
        "    !pip install pyvirtualdisplay\n",
        "    !pip install gym[box2d] stable-baselines3[extra] huggingface_sb3 pyglet\n",
        "    !pip install ale-py==0.7.4 # To overcome an issue with gym (https://github.com/DLR-RM/stable-baselines3/issues/875)\n",
        "    !pip install wandb"
      ]
    },
    {
      "cell_type": "code",
      "execution_count": null,
      "metadata": {
        "colab": {
          "base_uri": "https://localhost:8080/"
        },
        "id": "PZsV1JniZaTd",
        "outputId": "fb0972e2-94c8-47a6-e79d-f11ff5665d19"
      },
      "outputs": [
        {
          "data": {
            "text/plain": [
              "<pyvirtualdisplay.display.Display at 0x7f73b232e610>"
            ]
          },
          "execution_count": 1,
          "metadata": {},
          "output_type": "execute_result"
        }
      ],
      "source": [
        "# Virtual display\n",
        "from pyvirtualdisplay import Display\n",
        "\n",
        "virtual_display = Display(visible=0, size=(1400, 900))\n",
        "virtual_display.start()"
      ]
    },
    {
      "cell_type": "code",
      "execution_count": 4,
      "metadata": {
        "id": "cygWLPGsEQ0m"
      },
      "outputs": [],
      "source": [
        "import gym\n",
        "\n",
        "from huggingface_sb3 import load_from_hub, package_to_hub, push_to_hub\n",
        "from huggingface_hub import notebook_login\n",
        "\n",
        "from stable_baselines3 import PPO\n",
        "from stable_baselines3.common.evaluation import evaluate_policy\n",
        "from stable_baselines3.common.env_util import make_vec_env\n",
        "from stable_baselines3.common.vec_env import DummyVecEnv, VecVideoRecorder\n",
        "from stable_baselines3.common.monitor import Monitor\n",
        "\n",
        "import wandb\n",
        "from wandb.integration.sb3 import WandbCallback"
      ]
    },
    {
      "cell_type": "code",
      "execution_count": 2,
      "metadata": {
        "colab": {
          "base_uri": "https://localhost:8080/"
        },
        "id": "Ce_sn-Yvumdr",
        "outputId": "43550666-b133-4e3f-d7c2-b5977c999ed5"
      },
      "outputs": [
        {
          "name": "stderr",
          "output_type": "stream",
          "text": [
            "\u001b[34m\u001b[1mwandb\u001b[0m: Currently logged in as: \u001b[33marampacha\u001b[0m (use `wandb login --relogin` to force relogin)\n"
          ]
        },
        {
          "data": {
            "text/plain": [
              "True"
            ]
          },
          "execution_count": 2,
          "metadata": {},
          "output_type": "execute_result"
        }
      ],
      "source": [
        "wandb.login()"
      ]
    },
    {
      "cell_type": "code",
      "execution_count": 3,
      "metadata": {
        "id": "H_SPqyInnKOu"
      },
      "outputs": [
        {
          "data": {
            "application/vnd.jupyter.widget-view+json": {
              "model_id": "8dc863a57d8c42b8a4f8a291220b312c",
              "version_major": 2,
              "version_minor": 0
            },
            "text/plain": [
              "VBox(children=(HTML(value='<center> <img\\nsrc=https://huggingface.co/front/assets/huggingface_logo-noborder.sv…"
            ]
          },
          "metadata": {},
          "output_type": "display_data"
        }
      ],
      "source": [
        "notebook_login()\n",
        "!git config --global credential.helper store"
      ]
    },
    {
      "cell_type": "code",
      "execution_count": null,
      "metadata": {
        "id": "0bqNvbIKuR8k"
      },
      "outputs": [],
      "source": [
        "ENV_NAME = 'LunarLander-v2'\n",
        "\n",
        "config = {\n",
        "    \"policy_type\": \"MlpPolicy\",\n",
        "    \"total_timesteps\": int(2e6),\n",
        "    \"seed\": 124,\n",
        "    \"lr\":2e-3,\n",
        "    \"decay\":True,\n",
        "    \"batch_size\":128\n",
        "}"
      ]
    },
    {
      "cell_type": "code",
      "execution_count": null,
      "metadata": {
        "id": "ka8zn4chvOTt"
      },
      "outputs": [],
      "source": [
        "def linear_decay_sched(pct):\n",
        "    return pct*config[\"lr\"]"
      ]
    },
    {
      "cell_type": "code",
      "execution_count": null,
      "metadata": {
        "id": "VLtxIcv3veVk"
      },
      "outputs": [],
      "source": [
        "_d = \"linear\" if config['decay'] else 'no'\n",
        "experiment_name = f\"{ENV_NAME}-ppo-{config['lr']:.0e}-{_d}-decay-{config['total_timesteps']:.0e}steps\"\n",
        "with wandb.init(\n",
        "        project=\"hf-deep-rl-class\",\n",
        "        name=f\"{experiment_name}-1\",\n",
        "        group=experiment_name,\n",
        "        config=config,\n",
        "        sync_tensorboard=True,\n",
        "        monitor_gym=True,\n",
        "        save_code=False,\n",
        "    ) as run:\n",
        "\n",
        "\n",
        "    env = make_vec_env(ENV_NAME, n_envs=16)\n",
        "    env = VecVideoRecorder(env, f\"videos/{run.id}\", record_video_trigger=lambda x: x>1e6)\n",
        "\n",
        "    model = PPO(\n",
        "        config[\"policy_type\"], \n",
        "        env,\n",
        "        learning_rate=linear_decay_sched if config[\"decay\"] else config['lr'], \n",
        "        verbose=1, \n",
        "        tensorboard_log=f\"runs/{run.id}\",\n",
        "        batch_size=config[\"batch_size\"],\n",
        "\n",
        "    )\n",
        "    model_name = f\"{ENV_NAME}-ppo\"\n",
        "    model.learn(\n",
        "        total_timesteps=config[\"total_timesteps\"],\n",
        "        callback=WandbCallback(\n",
        "            gradient_save_freq=100,\n",
        "            model_save_path=model_name,\n",
        "            verbose=2,\n",
        "        ),\n",
        "    )\n",
        "    eval_env = DummyVecEnv([lambda: Monitor(gym.make(ENV_NAME))])\n",
        "    package_to_hub(\n",
        "        model=model,\n",
        "        model_name=model_name,\n",
        "        model_architecture=\"PPO\",\n",
        "        env_id=ENV_NAME,\n",
        "        eval_env=eval_env,\n",
        "        repo_id=f\"arampacha/{model_name}\",\n",
        "        commit_message=f\"trained model {config['total_timesteps']:.0e} steps\"\n",
        "    )"
      ]
    },
    {
      "cell_type": "code",
      "execution_count": null,
      "metadata": {
        "id": "2noYjNZdnGz8"
      },
      "outputs": [],
      "source": []
    }
  ],
  "metadata": {
    "accelerator": "GPU",
    "colab": {
      "collapsed_sections": [],
      "include_colab_link": true,
      "name": "1a_LunarLander_v2_PPO.ipynb",
      "provenance": []
    },
    "interpreter": {
      "hash": "19cfcd604226fc074c59ffdd9ccdd25dff2af2b0e556669e853820560f66b19e"
    },
    "kernelspec": {
      "display_name": "Python 3.8.11 ('rlenv')",
      "language": "python",
      "name": "python3"
    },
    "language_info": {
      "codemirror_mode": {
        "name": "ipython",
        "version": 3
      },
      "file_extension": ".py",
      "mimetype": "text/x-python",
      "name": "python",
      "nbconvert_exporter": "python",
      "pygments_lexer": "ipython3",
      "version": "3.8.11"
    }
  },
  "nbformat": 4,
  "nbformat_minor": 0
}
